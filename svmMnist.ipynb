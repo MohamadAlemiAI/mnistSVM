{
 "cells": [
  {
   "cell_type": "code",
   "execution_count": 255,
   "id": "94e46845",
   "metadata": {},
   "outputs": [],
   "source": [
    "import numpy as np\n",
    "import pandas as pd\n",
    "import matplotlib.pyplot as plt\n",
    "from sklearn import datasets\n",
    "from sklearn.metrics import classification_report"
   ]
  },
  {
   "cell_type": "code",
   "execution_count": 211,
   "id": "5473d670",
   "metadata": {},
   "outputs": [],
   "source": [
    "data = datasets.load_digits()"
   ]
  },
  {
   "cell_type": "code",
   "execution_count": 218,
   "id": "52ff383c",
   "metadata": {},
   "outputs": [
    {
     "data": {
      "text/plain": [
       "<matplotlib.image.AxesImage at 0x13627ef90>"
      ]
     },
     "execution_count": 218,
     "metadata": {},
     "output_type": "execute_result"
    },
    {
     "data": {
      "image/png": "[encoded data removed]",
      "text/plain": [
       "<Figure size 640x480 with 1 Axes>"
      ]
     },
     "metadata": {},
     "output_type": "display_data"
    }
   ],
   "source": [
    "plt.subplot()\n",
    "plt.imshow(data.images[0], cmap = plt.cm.gray_r)"
   ]
  },
  {
   "cell_type": "code",
   "execution_count": 234,
   "id": "3a3cc1a5",
   "metadata": {},
   "outputs": [
    {
     "data": {
      "image/png": "[encoded data removed]",
      "text/plain": [
       "<Figure size 640x480 with 4 Axes>"
      ]
     },
     "metadata": {},
     "output_type": "display_data"
    }
   ],
   "source": [
    "images_and_labels = list(zip(data.images, data.target))\n",
    "for i , (image, label) in enumerate(images_and_labels[:4]):\n",
    "    plt.subplot(2,4,i+1)\n",
    "    plt.imshow(image, cmap = plt.cm.gray_r)\n",
    "    plt.title(label)"
   ]
  },
  {
   "cell_type": "code",
   "execution_count": 237,
   "id": "f5afc7df",
   "metadata": {},
   "outputs": [
    {
     "data": {
      "text/plain": [
       "(1797, 8, 8)"
      ]
     },
     "execution_count": 237,
     "metadata": {},
     "output_type": "execute_result"
    }
   ],
   "source": [
    "np.shape(data.images)"
   ]
  },
  {
   "cell_type": "code",
   "execution_count": 247,
   "id": "a2e98245",
   "metadata": {},
   "outputs": [],
   "source": [
    "X = data.images.reshape((len(data.images)), -1)\n",
    "y = data.target"
   ]
  },
  {
   "cell_type": "code",
   "execution_count": 248,
   "id": "d3484939",
   "metadata": {},
   "outputs": [],
   "source": [
    "from sklearn.model_selection import train_test_split\n",
    "X_train, X_test, y_train, y_test = train_test_split(X, y, test_size=0.33, random_state=42)"
   ]
  },
  {
   "cell_type": "code",
   "execution_count": 256,
   "id": "aa3c44e3",
   "metadata": {},
   "outputs": [],
   "source": [
    "from sklearn.svm import SVC\n",
    "svm = SVC()\n",
    "svm.fit(X_train,y_train)\n",
    "y_pred = svm.predict(X_test)"
   ]
  },
  {
   "cell_type": "code",
   "execution_count": 258,
   "id": "5bb55c2d",
   "metadata": {},
   "outputs": [
    {
     "name": "stdout",
     "output_type": "stream",
     "text": [
      "              precision    recall  f1-score   support\n",
      "\n",
      "           0       1.00      1.00      1.00        55\n",
      "           1       0.98      1.00      0.99        55\n",
      "           2       1.00      1.00      1.00        52\n",
      "           3       0.98      0.98      0.98        56\n",
      "           4       1.00      1.00      1.00        64\n",
      "           5       1.00      0.99      0.99        73\n",
      "           6       0.98      1.00      0.99        57\n",
      "           7       0.98      0.98      0.98        62\n",
      "           8       0.96      0.96      0.96        52\n",
      "           9       0.97      0.96      0.96        68\n",
      "\n",
      "    accuracy                           0.99       594\n",
      "   macro avg       0.99      0.99      0.99       594\n",
      "weighted avg       0.99      0.99      0.99       594\n",
      "\n"
     ]
    }
   ],
   "source": [
    "print(classification_report(y_test, y_pred))"
   ]
  },
  {
   "cell_type": "code",
   "execution_count": null,
   "id": "7e241a0c",
   "metadata": {},
   "outputs": [],
   "source": []
  }
 ],
 "metadata": {
  "kernelspec": {
   "display_name": "Python 3 (ipykernel)",
   "language": "python",
   "name": "python3"
  },
  "language_info": {
   "codemirror_mode": {
    "name": "ipython",
    "version": 3
   },
   "file_extension": ".py",
   "mimetype": "text/x-python",
   "name": "python",
   "nbconvert_exporter": "python",
   "pygments_lexer": "ipython3",
   "version": "3.11.5"
  }
 },
 "nbformat": 4,
 "nbformat_minor": 5
}
